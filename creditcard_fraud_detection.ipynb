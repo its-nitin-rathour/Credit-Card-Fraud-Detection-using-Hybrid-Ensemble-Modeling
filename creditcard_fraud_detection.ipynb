{
  "nbformat": 4,
  "nbformat_minor": 0,
  "metadata": {
    "colab": {
      "provenance": []
    },
    "kernelspec": {
      "name": "python3",
      "display_name": "Python 3"
    },
    "language_info": {
      "name": "python"
    }
  },
  "cells": [
    {
      "cell_type": "markdown",
      "source": [
        "# Credit Card Fraud Detection using Hybrid Ensemble Modeling\n",
        "\n",
        "\n",
        "**Importing Kaggle Data**\n",
        "\n",
        "This block imports the KaggleHub library and downloads the Kaggle Credit Card Fraud dataset. It ensures the data is available locally for analysis and confirms successful import with a print statement.\n",
        "\n"
      ],
      "metadata": {
        "id": "1YBj80A-LKvk"
      }
    },
    {
      "source": [
        "import kagglehub\n",
        "mlg_ulb_creditcardfraud_path = kagglehub.dataset_download('mlg-ulb/creditcardfraud')\n",
        "\n",
        "print('Data source import complete.')\n"
      ],
      "metadata": {
        "colab": {
          "base_uri": "https://localhost:8080/"
        },
        "outputId": "32a014de-fc87-406e-8295-80ab9f4b9c71",
        "id": "W2NWMd4fM4K0"
      },
      "cell_type": "code",
      "outputs": [
        {
          "output_type": "stream",
          "name": "stdout",
          "text": [
            "Data source import complete.\n"
          ]
        }
      ],
      "execution_count": null
    },
    {
      "cell_type": "markdown",
      "source": [
        "**Environment and Library Setup**\n",
        "This section imports essential libraries for data analysis:\n",
        "\n",
        "* numpy for numerical operations,\n",
        "\n",
        "* pandas for data manipulation,\n",
        "\n",
        "* os for file handling.\n",
        "It also lists all files in the input directory to verify data availability."
      ],
      "metadata": {
        "id": "_3GqQasULVmY"
      }
    },
    {
      "cell_type": "code",
      "source": [
        "import numpy as np\n",
        "import pandas as pd\n",
        "\n",
        "import os\n",
        "for dirname, _, filenames in os.walk('/kaggle/input'):\n",
        "    for filename in filenames:\n",
        "        print(os.path.join(dirname, filename))\n"
      ],
      "metadata": {
        "_uuid": "8f2839f25d086af736a60e9eeb907d3b93b6e0e5",
        "_cell_guid": "b1076dfc-b9ad-4769-8c92-a6c4dae69d19",
        "trusted": true,
        "colab": {
          "base_uri": "https://localhost:8080/"
        },
        "outputId": "58a5013e-342c-4064-8fd9-e0bdb497189b",
        "id": "Km823BQFM4LE"
      },
      "outputs": [
        {
          "output_type": "stream",
          "name": "stdout",
          "text": [
            "/kaggle/input/creditcardfraud/creditcard.csv\n"
          ]
        }
      ],
      "execution_count": null
    },
    {
      "cell_type": "markdown",
      "source": [
        "**Confirming Data Download**\n",
        "\n",
        "This block reaffirms the download of the dataset and prints the path to the dataset files for reference.\n",
        "\n"
      ],
      "metadata": {
        "id": "cc_D2sphLrVY"
      }
    },
    {
      "cell_type": "code",
      "source": [
        "import kagglehub\n",
        "\n",
        "# Download latest version\n",
        "path = kagglehub.dataset_download(\"mlg-ulb/creditcardfraud\")\n",
        "\n",
        "print(\"Path to dataset files:\", path)"
      ],
      "metadata": {
        "trusted": true,
        "execution": {
          "iopub.status.busy": "2025-06-06T07:38:09.491221Z",
          "iopub.execute_input": "2025-06-06T07:38:09.491567Z",
          "iopub.status.idle": "2025-06-06T07:38:10.155496Z",
          "shell.execute_reply.started": "2025-06-06T07:38:09.491544Z",
          "shell.execute_reply": "2025-06-06T07:38:10.153557Z"
        },
        "colab": {
          "base_uri": "https://localhost:8080/"
        },
        "outputId": "ac3c5f4f-782f-4506-cc5d-dbbea6d05e14",
        "id": "Rqk-vCVhM4LF"
      },
      "outputs": [
        {
          "output_type": "stream",
          "name": "stdout",
          "text": [
            "Path to dataset files: /kaggle/input/creditcardfraud\n"
          ]
        }
      ],
      "execution_count": null
    },
    {
      "cell_type": "markdown",
      "source": [
        "**Importing Core Libraries**\n",
        "\n",
        "Here, the notebook imports:\n",
        "\n",
        "* pandas is used for data handling\n",
        "* matplotlib and seaborn for data visualization,\n",
        "* sklearn modules for model building and evaluation."
      ],
      "metadata": {
        "id": "FkE89OMgLx8K"
      }
    },
    {
      "cell_type": "code",
      "source": [
        "# First, we import all the necessary libraries.\n",
        "# pandas is used for data handling, matplotlib and seaborn are for visualization,\n",
        "# and sklearn is used for model building, training, and evaluation.\n",
        "import pandas as pd\n",
        "import matplotlib.pyplot as plt\n",
        "import seaborn as sns\n",
        "from sklearn.model_selection import train_test_split\n",
        "from sklearn.ensemble import RandomForestClassifier\n",
        "from sklearn.metrics import classification_report, confusion_matrix\n"
      ],
      "metadata": {
        "trusted": true,
        "execution": {
          "iopub.status.busy": "2025-06-06T07:38:19.556184Z",
          "iopub.execute_input": "2025-06-06T07:38:19.556658Z",
          "iopub.status.idle": "2025-06-06T07:38:21.831601Z",
          "shell.execute_reply.started": "2025-06-06T07:38:19.55663Z",
          "shell.execute_reply": "2025-06-06T07:38:21.830407Z"
        },
        "id": "_AWdE8KRgips"
      },
      "outputs": [],
      "execution_count": null
    },
    {
      "cell_type": "markdown",
      "source": [
        "**Loading the Dataset**\n",
        "\n",
        "Loads the credit card transactions data into a pandas DataFrame for analysis.\n",
        "\n"
      ],
      "metadata": {
        "id": "S9P0hML1MFmB"
      }
    },
    {
      "cell_type": "code",
      "source": [
        "# Now, we load the dataset using pandas.\n",
        "# The file is located at the given Kaggle path and contains credit card transaction data.\n",
        "df = pd.read_csv('/kaggle/input/creditcardfraud/creditcard.csv')\n"
      ],
      "metadata": {
        "trusted": true,
        "execution": {
          "iopub.status.busy": "2025-06-06T07:38:21.833907Z",
          "iopub.execute_input": "2025-06-06T07:38:21.834929Z",
          "iopub.status.idle": "2025-06-06T07:38:26.328045Z",
          "shell.execute_reply.started": "2025-06-06T07:38:21.834899Z",
          "shell.execute_reply": "2025-06-06T07:38:26.327048Z"
        },
        "id": "_MHZHFe_gipt"
      },
      "outputs": [],
      "execution_count": null
    },
    {
      "cell_type": "markdown",
      "source": [
        "**Initial Data Exploration**\n",
        "\n",
        "Displays the dataset's shape, previews the first few rows, and shows the distribution of normal (0) vs. fraudulent (1) transactions to highlight class imbalance.\n",
        "\n"
      ],
      "metadata": {
        "id": "qEPi9lkQMNTm"
      }
    },
    {
      "cell_type": "code",
      "source": [
        "# Let's explore the dataset. We check its shape to see how many rows and columns it has.\n",
        "# Then we look at the first few rows and check how many transactions are normal (0) vs fraud (1).\n",
        "print(df.shape)\n",
        "print(df.head())\n",
        "print(df['Class'].value_counts())\n"
      ],
      "metadata": {
        "trusted": true,
        "execution": {
          "iopub.status.busy": "2025-06-06T07:38:26.329049Z",
          "iopub.execute_input": "2025-06-06T07:38:26.329503Z",
          "iopub.status.idle": "2025-06-06T07:38:26.367525Z",
          "shell.execute_reply.started": "2025-06-06T07:38:26.32948Z",
          "shell.execute_reply": "2025-06-06T07:38:26.366423Z"
        },
        "colab": {
          "base_uri": "https://localhost:8080/"
        },
        "id": "anHVNjglgipv",
        "outputId": "98bd3fe5-6520-411b-cdce-8da32751afe6"
      },
      "outputs": [
        {
          "output_type": "stream",
          "name": "stdout",
          "text": [
            "(284807, 31)\n",
            "   Time        V1        V2        V3        V4        V5        V6        V7  \\\n",
            "0   0.0 -1.359807 -0.072781  2.536347  1.378155 -0.338321  0.462388  0.239599   \n",
            "1   0.0  1.191857  0.266151  0.166480  0.448154  0.060018 -0.082361 -0.078803   \n",
            "2   1.0 -1.358354 -1.340163  1.773209  0.379780 -0.503198  1.800499  0.791461   \n",
            "3   1.0 -0.966272 -0.185226  1.792993 -0.863291 -0.010309  1.247203  0.237609   \n",
            "4   2.0 -1.158233  0.877737  1.548718  0.403034 -0.407193  0.095921  0.592941   \n",
            "\n",
            "         V8        V9  ...       V21       V22       V23       V24       V25  \\\n",
            "0  0.098698  0.363787  ... -0.018307  0.277838 -0.110474  0.066928  0.128539   \n",
            "1  0.085102 -0.255425  ... -0.225775 -0.638672  0.101288 -0.339846  0.167170   \n",
            "2  0.247676 -1.514654  ...  0.247998  0.771679  0.909412 -0.689281 -0.327642   \n",
            "3  0.377436 -1.387024  ... -0.108300  0.005274 -0.190321 -1.175575  0.647376   \n",
            "4 -0.270533  0.817739  ... -0.009431  0.798278 -0.137458  0.141267 -0.206010   \n",
            "\n",
            "        V26       V27       V28  Amount  Class  \n",
            "0 -0.189115  0.133558 -0.021053  149.62      0  \n",
            "1  0.125895 -0.008983  0.014724    2.69      0  \n",
            "2 -0.139097 -0.055353 -0.059752  378.66      0  \n",
            "3 -0.221929  0.062723  0.061458  123.50      0  \n",
            "4  0.502292  0.219422  0.215153   69.99      0  \n",
            "\n",
            "[5 rows x 31 columns]\n",
            "Class\n",
            "0    284315\n",
            "1       492\n",
            "Name: count, dtype: int64\n"
          ]
        }
      ],
      "execution_count": null
    },
    {
      "cell_type": "markdown",
      "source": [
        "**Visualizing Class Distribution**\n",
        "\n",
        "Creates a bar plot to visually demonstrate the severe imbalance between fraudulent and normal transactions.\n",
        "\n"
      ],
      "metadata": {
        "id": "Mb0Im6UZMV_w"
      }
    },
    {
      "cell_type": "code",
      "source": [
        "# We use seaborn to create a simple bar plot of the class distribution.\n",
        "# This helps us understand the class imbalance—fraud cases are very rare.\n",
        "sns.countplot(x='Class', data=df)\n",
        "plt.title(\"Fraud (1) vs Normal (0)\")\n",
        "plt.show()\n"
      ],
      "metadata": {
        "trusted": true,
        "execution": {
          "iopub.status.busy": "2025-06-06T07:38:26.369994Z",
          "iopub.execute_input": "2025-06-06T07:38:26.370305Z",
          "iopub.status.idle": "2025-06-06T07:38:26.643959Z",
          "shell.execute_reply.started": "2025-06-06T07:38:26.370279Z",
          "shell.execute_reply": "2025-06-06T07:38:26.642914Z"
        },
        "colab": {
          "base_uri": "https://localhost:8080/",
          "height": 472
        },
        "id": "4IEmXhHngipw",
        "outputId": "0ee5bdec-7559-465d-fb86-394cdaa4e5a9"
      },
      "outputs": [
        {
          "output_type": "display_data",
          "data": {
            "text/plain": [
              "<Figure size 640x480 with 1 Axes>"
            ],
            "image/png": "[encoded data removed]"
          },
          "metadata": {}
        }
      ],
      "execution_count": null
    },
    {
      "cell_type": "markdown",
      "source": [
        "**Preparing Features and Target**\n",
        "\n",
        "Separates the input features (X) from the target variable (y), which indicates whether a transaction is fraudulent.\n",
        "\n"
      ],
      "metadata": {
        "id": "zMcLrNiSMbfK"
      }
    },
    {
      "cell_type": "code",
      "source": [
        "# Now we prepare the data for machine learning.\n",
        "# X contains all the input features, and y is the output (target) column we want to predict.\n",
        "X = df.drop('Class', axis=1)\n",
        "y = df['Class']\n"
      ],
      "metadata": {
        "trusted": true,
        "execution": {
          "iopub.status.busy": "2025-06-06T07:38:26.645007Z",
          "iopub.execute_input": "2025-06-06T07:38:26.645483Z",
          "iopub.status.idle": "2025-06-06T07:38:26.685961Z",
          "shell.execute_reply.started": "2025-06-06T07:38:26.645448Z",
          "shell.execute_reply": "2025-06-06T07:38:26.685061Z"
        },
        "id": "Nw3qmkfLgip0"
      },
      "outputs": [],
      "execution_count": null
    },
    {
      "cell_type": "markdown",
      "source": [
        "**Splitting Data into Train and Test Sets**\n",
        "\n",
        "Splits the data into training and testing sets (80/20 split) to enable model evaluation on unseen data.\n",
        "\n"
      ],
      "metadata": {
        "id": "hxlm_ICpMgqv"
      }
    },
    {
      "cell_type": "code",
      "source": [
        "# We split the dataset into training and testing sets using 80% for training and 20% for testing.\n",
        "# This helps us evaluate the model on data it hasn’t seen before.\n",
        "X_train, X_test, y_train, y_test = train_test_split(X, y, test_size=0.2, random_state=42)\n"
      ],
      "metadata": {
        "trusted": true,
        "execution": {
          "iopub.status.busy": "2025-06-06T07:38:26.68706Z",
          "iopub.execute_input": "2025-06-06T07:38:26.687436Z",
          "iopub.status.idle": "2025-06-06T07:38:26.798688Z",
          "shell.execute_reply.started": "2025-06-06T07:38:26.687403Z",
          "shell.execute_reply": "2025-06-06T07:38:26.797717Z"
        },
        "id": "YvJdHGo8gip2"
      },
      "outputs": [],
      "execution_count": null
    },
    {
      "cell_type": "markdown",
      "source": [
        "**Training a Random Forest Classifier**\n",
        "\n",
        "Initializes and trains a Random Forest classifier on the training data, a robust model for classification tasks.\n",
        "\n"
      ],
      "metadata": {
        "id": "1h9jVfX2Mo2u"
      }
    },
    {
      "cell_type": "code",
      "source": [
        "# We create and train a Random Forest model, which is a popular and powerful classifier.\n",
        "# It works well with both small and large datasets and handles imbalance decently by default.\n",
        "rf_model = RandomForestClassifier()\n",
        "rf_model.fit(X_train, y_train)\n"
      ],
      "metadata": {
        "trusted": true,
        "execution": {
          "iopub.status.busy": "2025-06-06T07:38:26.79944Z",
          "iopub.execute_input": "2025-06-06T07:38:26.799688Z",
          "iopub.status.idle": "2025-06-06T07:43:39.173801Z",
          "shell.execute_reply.started": "2025-06-06T07:38:26.799667Z",
          "shell.execute_reply": "2025-06-06T07:43:39.172566Z"
        },
        "colab": {
          "base_uri": "https://localhost:8080/",
          "height": 80
        },
        "id": "yTIOYl4Hgip4",
        "outputId": "d4170d9b-cf2a-4bcb-c2a0-8357446f201a"
      },
      "outputs": [
        {
          "output_type": "execute_result",
          "data": {
            "text/plain": [
              "RandomForestClassifier()"
            ],
            "text/html": [
              "<style>#sk-container-id-1 {\n",
              "  /* Definition of color scheme common for light and dark mode */\n",
              "  --sklearn-color-text: #000;\n",
              "  --sklearn-color-text-muted: #666;\n",
              "  --sklearn-color-line: gray;\n",
              "  /* Definition of color scheme for unfitted estimators */\n",
              "  --sklearn-color-unfitted-level-0: #fff5e6;\n",
              "  --sklearn-color-unfitted-level-1: #f6e4d2;\n",
              "  --sklearn-color-unfitted-level-2: #ffe0b3;\n",
              "  --sklearn-color-unfitted-level-3: chocolate;\n",
              "  /* Definition of color scheme for fitted estimators */\n",
              "  --sklearn-color-fitted-level-0: #f0f8ff;\n",
              "  --sklearn-color-fitted-level-1: #d4ebff;\n",
              "  --sklearn-color-fitted-level-2: #b3dbfd;\n",
              "  --sklearn-color-fitted-level-3: cornflowerblue;\n",
              "\n",
              "  /* Specific color for light theme */\n",
              "  --sklearn-color-text-on-default-background: var(--sg-text-color, var(--theme-code-foreground, var(--jp-content-font-color1, black)));\n",
              "  --sklearn-color-background: var(--sg-background-color, var(--theme-background, var(--jp-layout-color0, white)));\n",
              "  --sklearn-color-border-box: var(--sg-text-color, var(--theme-code-foreground, var(--jp-content-font-color1, black)));\n",
              "  --sklearn-color-icon: #696969;\n",
              "\n",
              "  @media (prefers-color-scheme: dark) {\n",
              "    /* Redefinition of color scheme for dark theme */\n",
              "    --sklearn-color-text-on-default-background: var(--sg-text-color, var(--theme-code-foreground, var(--jp-content-font-color1, white)));\n",
              "    --sklearn-color-background: var(--sg-background-color, var(--theme-background, var(--jp-layout-color0, #111)));\n",
              "    --sklearn-color-border-box: var(--sg-text-color, var(--theme-code-foreground, var(--jp-content-font-color1, white)));\n",
              "    --sklearn-color-icon: #878787;\n",
              "  }\n",
              "}\n",
              "\n",
              "#sk-container-id-1 {\n",
              "  color: var(--sklearn-color-text);\n",
              "}\n",
              "\n",
              "#sk-container-id-1 pre {\n",
              "  padding: 0;\n",
              "}\n",
              "\n",
              "#sk-container-id-1 input.sk-hidden--visually {\n",
              "  border: 0;\n",
              "  clip: rect(1px 1px 1px 1px);\n",
              "  clip: rect(1px, 1px, 1px, 1px);\n",
              "  height: 1px;\n",
              "  margin: -1px;\n",
              "  overflow: hidden;\n",
              "  padding: 0;\n",
              "  position: absolute;\n",
              "  width: 1px;\n",
              "}\n",
              "\n",
              "#sk-container-id-1 div.sk-dashed-wrapped {\n",
              "  border: 1px dashed var(--sklearn-color-line);\n",
              "  margin: 0 0.4em 0.5em 0.4em;\n",
              "  box-sizing: border-box;\n",
              "  padding-bottom: 0.4em;\n",
              "  background-color: var(--sklearn-color-background);\n",
              "}\n",
              "\n",
              "#sk-container-id-1 div.sk-container {\n",
              "  /* jupyter's `normalize.less` sets `[hidden] { display: none; }`\n",
              "     but bootstrap.min.css set `[hidden] { display: none !important; }`\n",
              "     so we also need the `!important` here to be able to override the\n",
              "     default hidden behavior on the sphinx rendered scikit-learn.org.\n",
              "     See: https://github.com/scikit-learn/scikit-learn/issues/21755 */\n",
              "  display: inline-block !important;\n",
              "  position: relative;\n",
              "}\n",
              "\n",
              "#sk-container-id-1 div.sk-text-repr-fallback {\n",
              "  display: none;\n",
              "}\n",
              "\n",
              "div.sk-parallel-item,\n",
              "div.sk-serial,\n",
              "div.sk-item {\n",
              "  /* draw centered vertical line to link estimators */\n",
              "  background-image: linear-gradient(var(--sklearn-color-text-on-default-background), var(--sklearn-color-text-on-default-background));\n",
              "  background-size: 2px 100%;\n",
              "  background-repeat: no-repeat;\n",
              "  background-position: center center;\n",
              "}\n",
              "\n",
              "/* Parallel-specific style estimator block */\n",
              "\n",
              "#sk-container-id-1 div.sk-parallel-item::after {\n",
              "  content: \"\";\n",
              "  width: 100%;\n",
              "  border-bottom: 2px solid var(--sklearn-color-text-on-default-background);\n",
              "  flex-grow: 1;\n",
              "}\n",
              "\n",
              "#sk-container-id-1 div.sk-parallel {\n",
              "  display: flex;\n",
              "  align-items: stretch;\n",
              "  justify-content: center;\n",
              "  background-color: var(--sklearn-color-background);\n",
              "  position: relative;\n",
              "}\n",
              "\n",
              "#sk-container-id-1 div.sk-parallel-item {\n",
              "  display: flex;\n",
              "  flex-direction: column;\n",
              "}\n",
              "\n",
              "#sk-container-id-1 div.sk-parallel-item:first-child::after {\n",
              "  align-self: flex-end;\n",
              "  width: 50%;\n",
              "}\n",
              "\n",
              "#sk-container-id-1 div.sk-parallel-item:last-child::after {\n",
              "  align-self: flex-start;\n",
              "  width: 50%;\n",
              "}\n",
              "\n",
              "#sk-container-id-1 div.sk-parallel-item:only-child::after {\n",
              "  width: 0;\n",
              "}\n",
              "\n",
              "/* Serial-specific style estimator block */\n",
              "\n",
              "#sk-container-id-1 div.sk-serial {\n",
              "  display: flex;\n",
              "  flex-direction: column;\n",
              "  align-items: center;\n",
              "  background-color: var(--sklearn-color-background);\n",
              "  padding-right: 1em;\n",
              "  padding-left: 1em;\n",
              "}\n",
              "\n",
              "\n",
              "/* Toggleable style: style used for estimator/Pipeline/ColumnTransformer box that is\n",
              "clickable and can be expanded/collapsed.\n",
              "- Pipeline and ColumnTransformer use this feature and define the default style\n",
              "- Estimators will overwrite some part of the style using the `sk-estimator` class\n",
              "*/\n",
              "\n",
              "/* Pipeline and ColumnTransformer style (default) */\n",
              "\n",
              "#sk-container-id-1 div.sk-toggleable {\n",
              "  /* Default theme specific background. It is overwritten whether we have a\n",
              "  specific estimator or a Pipeline/ColumnTransformer */\n",
              "  background-color: var(--sklearn-color-background);\n",
              "}\n",
              "\n",
              "/* Toggleable label */\n",
              "#sk-container-id-1 label.sk-toggleable__label {\n",
              "  cursor: pointer;\n",
              "  display: flex;\n",
              "  width: 100%;\n",
              "  margin-bottom: 0;\n",
              "  padding: 0.5em;\n",
              "  box-sizing: border-box;\n",
              "  text-align: center;\n",
              "  align-items: start;\n",
              "  justify-content: space-between;\n",
              "  gap: 0.5em;\n",
              "}\n",
              "\n",
              "#sk-container-id-1 label.sk-toggleable__label .caption {\n",
              "  font-size: 0.6rem;\n",
              "  font-weight: lighter;\n",
              "  color: var(--sklearn-color-text-muted);\n",
              "}\n",
              "\n",
              "#sk-container-id-1 label.sk-toggleable__label-arrow:before {\n",
              "  /* Arrow on the left of the label */\n",
              "  content: \"▸\";\n",
              "  float: left;\n",
              "  margin-right: 0.25em;\n",
              "  color: var(--sklearn-color-icon);\n",
              "}\n",
              "\n",
              "#sk-container-id-1 label.sk-toggleable__label-arrow:hover:before {\n",
              "  color: var(--sklearn-color-text);\n",
              "}\n",
              "\n",
              "/* Toggleable content - dropdown */\n",
              "\n",
              "#sk-container-id-1 div.sk-toggleable__content {\n",
              "  max-height: 0;\n",
              "  max-width: 0;\n",
              "  overflow: hidden;\n",
              "  text-align: left;\n",
              "  /* unfitted */\n",
              "  background-color: var(--sklearn-color-unfitted-level-0);\n",
              "}\n",
              "\n",
              "#sk-container-id-1 div.sk-toggleable__content.fitted {\n",
              "  /* fitted */\n",
              "  background-color: var(--sklearn-color-fitted-level-0);\n",
              "}\n",
              "\n",
              "#sk-container-id-1 div.sk-toggleable__content pre {\n",
              "  margin: 0.2em;\n",
              "  border-radius: 0.25em;\n",
              "  color: var(--sklearn-color-text);\n",
              "  /* unfitted */\n",
              "  background-color: var(--sklearn-color-unfitted-level-0);\n",
              "}\n",
              "\n",
              "#sk-container-id-1 div.sk-toggleable__content.fitted pre {\n",
              "  /* unfitted */\n",
              "  background-color: var(--sklearn-color-fitted-level-0);\n",
              "}\n",
              "\n",
              "#sk-container-id-1 input.sk-toggleable__control:checked~div.sk-toggleable__content {\n",
              "  /* Expand drop-down */\n",
              "  max-height: 200px;\n",
              "  max-width: 100%;\n",
              "  overflow: auto;\n",
              "}\n",
              "\n",
              "#sk-container-id-1 input.sk-toggleable__control:checked~label.sk-toggleable__label-arrow:before {\n",
              "  content: \"▾\";\n",
              "}\n",
              "\n",
              "/* Pipeline/ColumnTransformer-specific style */\n",
              "\n",
              "#sk-container-id-1 div.sk-label input.sk-toggleable__control:checked~label.sk-toggleable__label {\n",
              "  color: var(--sklearn-color-text);\n",
              "  background-color: var(--sklearn-color-unfitted-level-2);\n",
              "}\n",
              "\n",
              "#sk-container-id-1 div.sk-label.fitted input.sk-toggleable__control:checked~label.sk-toggleable__label {\n",
              "  background-color: var(--sklearn-color-fitted-level-2);\n",
              "}\n",
              "\n",
              "/* Estimator-specific style */\n",
              "\n",
              "/* Colorize estimator box */\n",
              "#sk-container-id-1 div.sk-estimator input.sk-toggleable__control:checked~label.sk-toggleable__label {\n",
              "  /* unfitted */\n",
              "  background-color: var(--sklearn-color-unfitted-level-2);\n",
              "}\n",
              "\n",
              "#sk-container-id-1 div.sk-estimator.fitted input.sk-toggleable__control:checked~label.sk-toggleable__label {\n",
              "  /* fitted */\n",
              "  background-color: var(--sklearn-color-fitted-level-2);\n",
              "}\n",
              "\n",
              "#sk-container-id-1 div.sk-label label.sk-toggleable__label,\n",
              "#sk-container-id-1 div.sk-label label {\n",
              "  /* The background is the default theme color */\n",
              "  color: var(--sklearn-color-text-on-default-background);\n",
              "}\n",
              "\n",
              "/* On hover, darken the color of the background */\n",
              "#sk-container-id-1 div.sk-label:hover label.sk-toggleable__label {\n",
              "  color: var(--sklearn-color-text);\n",
              "  background-color: var(--sklearn-color-unfitted-level-2);\n",
              "}\n",
              "\n",
              "/* Label box, darken color on hover, fitted */\n",
              "#sk-container-id-1 div.sk-label.fitted:hover label.sk-toggleable__label.fitted {\n",
              "  color: var(--sklearn-color-text);\n",
              "  background-color: var(--sklearn-color-fitted-level-2);\n",
              "}\n",
              "\n",
              "/* Estimator label */\n",
              "\n",
              "#sk-container-id-1 div.sk-label label {\n",
              "  font-family: monospace;\n",
              "  font-weight: bold;\n",
              "  display: inline-block;\n",
              "  line-height: 1.2em;\n",
              "}\n",
              "\n",
              "#sk-container-id-1 div.sk-label-container {\n",
              "  text-align: center;\n",
              "}\n",
              "\n",
              "/* Estimator-specific */\n",
              "#sk-container-id-1 div.sk-estimator {\n",
              "  font-family: monospace;\n",
              "  border: 1px dotted var(--sklearn-color-border-box);\n",
              "  border-radius: 0.25em;\n",
              "  box-sizing: border-box;\n",
              "  margin-bottom: 0.5em;\n",
              "  /* unfitted */\n",
              "  background-color: var(--sklearn-color-unfitted-level-0);\n",
              "}\n",
              "\n",
              "#sk-container-id-1 div.sk-estimator.fitted {\n",
              "  /* fitted */\n",
              "  background-color: var(--sklearn-color-fitted-level-0);\n",
              "}\n",
              "\n",
              "/* on hover */\n",
              "#sk-container-id-1 div.sk-estimator:hover {\n",
              "  /* unfitted */\n",
              "  background-color: var(--sklearn-color-unfitted-level-2);\n",
              "}\n",
              "\n",
              "#sk-container-id-1 div.sk-estimator.fitted:hover {\n",
              "  /* fitted */\n",
              "  background-color: var(--sklearn-color-fitted-level-2);\n",
              "}\n",
              "\n",
              "/* Specification for estimator info (e.g. \"i\" and \"?\") */\n",
              "\n",
              "/* Common style for \"i\" and \"?\" */\n",
              "\n",
              ".sk-estimator-doc-link,\n",
              "a:link.sk-estimator-doc-link,\n",
              "a:visited.sk-estimator-doc-link {\n",
              "  float: right;\n",
              "  font-size: smaller;\n",
              "  line-height: 1em;\n",
              "  font-family: monospace;\n",
              "  background-color: var(--sklearn-color-background);\n",
              "  border-radius: 1em;\n",
              "  height: 1em;\n",
              "  width: 1em;\n",
              "  text-decoration: none !important;\n",
              "  margin-left: 0.5em;\n",
              "  text-align: center;\n",
              "  /* unfitted */\n",
              "  border: var(--sklearn-color-unfitted-level-1) 1pt solid;\n",
              "  color: var(--sklearn-color-unfitted-level-1);\n",
              "}\n",
              "\n",
              ".sk-estimator-doc-link.fitted,\n",
              "a:link.sk-estimator-doc-link.fitted,\n",
              "a:visited.sk-estimator-doc-link.fitted {\n",
              "  /* fitted */\n",
              "  border: var(--sklearn-color-fitted-level-1) 1pt solid;\n",
              "  color: var(--sklearn-color-fitted-level-1);\n",
              "}\n",
              "\n",
              "/* On hover */\n",
              "div.sk-estimator:hover .sk-estimator-doc-link:hover,\n",
              ".sk-estimator-doc-link:hover,\n",
              "div.sk-label-container:hover .sk-estimator-doc-link:hover,\n",
              ".sk-estimator-doc-link:hover {\n",
              "  /* unfitted */\n",
              "  background-color: var(--sklearn-color-unfitted-level-3);\n",
              "  color: var(--sklearn-color-background);\n",
              "  text-decoration: none;\n",
              "}\n",
              "\n",
              "div.sk-estimator.fitted:hover .sk-estimator-doc-link.fitted:hover,\n",
              ".sk-estimator-doc-link.fitted:hover,\n",
              "div.sk-label-container:hover .sk-estimator-doc-link.fitted:hover,\n",
              ".sk-estimator-doc-link.fitted:hover {\n",
              "  /* fitted */\n",
              "  background-color: var(--sklearn-color-fitted-level-3);\n",
              "  color: var(--sklearn-color-background);\n",
              "  text-decoration: none;\n",
              "}\n",
              "\n",
              "/* Span, style for the box shown on hovering the info icon */\n",
              ".sk-estimator-doc-link span {\n",
              "  display: none;\n",
              "  z-index: 9999;\n",
              "  position: relative;\n",
              "  font-weight: normal;\n",
              "  right: .2ex;\n",
              "  padding: .5ex;\n",
              "  margin: .5ex;\n",
              "  width: min-content;\n",
              "  min-width: 20ex;\n",
              "  max-width: 50ex;\n",
              "  color: var(--sklearn-color-text);\n",
              "  box-shadow: 2pt 2pt 4pt #999;\n",
              "  /* unfitted */\n",
              "  background: var(--sklearn-color-unfitted-level-0);\n",
              "  border: .5pt solid var(--sklearn-color-unfitted-level-3);\n",
              "}\n",
              "\n",
              ".sk-estimator-doc-link.fitted span {\n",
              "  /* fitted */\n",
              "  background: var(--sklearn-color-fitted-level-0);\n",
              "  border: var(--sklearn-color-fitted-level-3);\n",
              "}\n",
              "\n",
              ".sk-estimator-doc-link:hover span {\n",
              "  display: block;\n",
              "}\n",
              "\n",
              "/* \"?\"-specific style due to the `<a>` HTML tag */\n",
              "\n",
              "#sk-container-id-1 a.estimator_doc_link {\n",
              "  float: right;\n",
              "  font-size: 1rem;\n",
              "  line-height: 1em;\n",
              "  font-family: monospace;\n",
              "  background-color: var(--sklearn-color-background);\n",
              "  border-radius: 1rem;\n",
              "  height: 1rem;\n",
              "  width: 1rem;\n",
              "  text-decoration: none;\n",
              "  /* unfitted */\n",
              "  color: var(--sklearn-color-unfitted-level-1);\n",
              "  border: var(--sklearn-color-unfitted-level-1) 1pt solid;\n",
              "}\n",
              "\n",
              "#sk-container-id-1 a.estimator_doc_link.fitted {\n",
              "  /* fitted */\n",
              "  border: var(--sklearn-color-fitted-level-1) 1pt solid;\n",
              "  color: var(--sklearn-color-fitted-level-1);\n",
              "}\n",
              "\n",
              "/* On hover */\n",
              "#sk-container-id-1 a.estimator_doc_link:hover {\n",
              "  /* unfitted */\n",
              "  background-color: var(--sklearn-color-unfitted-level-3);\n",
              "  color: var(--sklearn-color-background);\n",
              "  text-decoration: none;\n",
              "}\n",
              "\n",
              "#sk-container-id-1 a.estimator_doc_link.fitted:hover {\n",
              "  /* fitted */\n",
              "  background-color: var(--sklearn-color-fitted-level-3);\n",
              "}\n",
              "</style><div id=\"sk-container-id-1\" class=\"sk-top-container\"><div class=\"sk-text-repr-fallback\"><pre>RandomForestClassifier()</pre><b>In a Jupyter environment, please rerun this cell to show the HTML representation or trust the notebook. <br />On GitHub, the HTML representation is unable to render, please try loading this page with nbviewer.org.</b></div><div class=\"sk-container\" hidden><div class=\"sk-item\"><div class=\"sk-estimator fitted sk-toggleable\"><input class=\"sk-toggleable__control sk-hidden--visually\" id=\"sk-estimator-id-1\" type=\"checkbox\" checked><label for=\"sk-estimator-id-1\" class=\"sk-toggleable__label fitted sk-toggleable__label-arrow\"><div><div>RandomForestClassifier</div></div><div><a class=\"sk-estimator-doc-link fitted\" rel=\"noreferrer\" target=\"_blank\" href=\"https://scikit-learn.org/1.6/modules/generated/sklearn.ensemble.RandomForestClassifier.html\">?<span>Documentation for RandomForestClassifier</span></a><span class=\"sk-estimator-doc-link fitted\">i<span>Fitted</span></span></div></label><div class=\"sk-toggleable__content fitted\"><pre>RandomForestClassifier()</pre></div> </div></div></div></div>"
            ]
          },
          "metadata": {},
          "execution_count": 10
        }
      ],
      "execution_count": null
    },
    {
      "cell_type": "markdown",
      "source": [
        "**Making Predictions with Random Forest**\n",
        "\n",
        "Generates predictions from the trained Random Forest model on the test data.\n",
        "\n"
      ],
      "metadata": {
        "id": "ZCAIugOlMuPV"
      }
    },
    {
      "cell_type": "code",
      "source": [
        "# After training, we use the model to make predictions on the test set.\n",
        "# These predictions will be compared with the real values to measure performance.\n",
        "y_pred = rf_model.predict(X_test)\n"
      ],
      "metadata": {
        "trusted": true,
        "execution": {
          "iopub.status.busy": "2025-06-06T07:43:39.175114Z",
          "iopub.execute_input": "2025-06-06T07:43:39.175506Z",
          "iopub.status.idle": "2025-06-06T07:43:39.889077Z",
          "shell.execute_reply.started": "2025-06-06T07:43:39.175475Z",
          "shell.execute_reply": "2025-06-06T07:43:39.888179Z"
        },
        "id": "Ys3lxGtsgip5"
      },
      "outputs": [],
      "execution_count": null
    },
    {
      "cell_type": "markdown",
      "source": [
        "**Evaluating the Random Forest Model**\n",
        "\n",
        "Prints the confusion matrix and classification report to assess model performance in terms of accuracy, precision, recall, and F1-score.\n",
        "\n"
      ],
      "metadata": {
        "id": "Tn59U2AiM0gk"
      }
    },
    {
      "cell_type": "code",
      "source": [
        "# Finally, we print the confusion matrix and classification report.\n",
        "# These show how well the model performed at detecting fraud vs normal transactions.\n",
        "print(\"Confusion Matrix:\\n\", confusion_matrix(y_test, y_pred))\n",
        "print(\"\\nClassification Report:\\n\", classification_report(y_test, y_pred))\n"
      ],
      "metadata": {
        "trusted": true,
        "execution": {
          "iopub.status.busy": "2025-06-06T07:43:39.890164Z",
          "iopub.execute_input": "2025-06-06T07:43:39.890626Z",
          "iopub.status.idle": "2025-06-06T07:43:39.971612Z",
          "shell.execute_reply.started": "2025-06-06T07:43:39.890601Z",
          "shell.execute_reply": "2025-06-06T07:43:39.970604Z"
        },
        "colab": {
          "base_uri": "https://localhost:8080/"
        },
        "id": "J-cioaT2gip6",
        "outputId": "c10221fc-aca8-4336-abd8-df1c3cde9bfc"
      },
      "outputs": [
        {
          "output_type": "stream",
          "name": "stdout",
          "text": [
            "Confusion Matrix:\n",
            " [[56862     2]\n",
            " [   22    76]]\n",
            "\n",
            "Classification Report:\n",
            "               precision    recall  f1-score   support\n",
            "\n",
            "           0       1.00      1.00      1.00     56864\n",
            "           1       0.97      0.78      0.86        98\n",
            "\n",
            "    accuracy                           1.00     56962\n",
            "   macro avg       0.99      0.89      0.93     56962\n",
            "weighted avg       1.00      1.00      1.00     56962\n",
            "\n"
          ]
        }
      ],
      "execution_count": null
    },
    {
      "cell_type": "markdown",
      "source": [
        "**Random Forest Probability Scores**\n",
        "\n",
        "Obtains the predicted probabilities for the positive class (fraud) from the Random Forest model, which are useful for threshold tuning."
      ],
      "metadata": {
        "id": "EXjqj7wTM4_z"
      }
    },
    {
      "cell_type": "code",
      "source": [
        "rf_scores = rf_model.predict_proba(X_test)[:, 1]\n",
        "rf_scores"
      ],
      "metadata": {
        "colab": {
          "base_uri": "https://localhost:8080/"
        },
        "id": "cueD1FR9gnBR",
        "outputId": "e81ad6ed-6e7c-457f-b33d-05c714767f26"
      },
      "execution_count": null,
      "outputs": [
        {
          "output_type": "execute_result",
          "data": {
            "text/plain": [
              "array([0.96, 0.  , 0.  , ..., 0.  , 0.  , 0.  ])"
            ]
          },
          "metadata": {},
          "execution_count": 14
        }
      ]
    },
    {
      "cell_type": "markdown",
      "source": [
        "**Storing Probabilities for ROC/AUC**\n",
        "\n",
        "Stores the predicted probabilities again for use in ROC-AUC and other metric calculations.\n",
        "\n"
      ],
      "metadata": {
        "id": "LCU-rNn1NApd"
      }
    },
    {
      "cell_type": "code",
      "source": [
        "y_prob = rf_model.predict_proba(X_test)[:, 1]  # For binary classification\n"
      ],
      "metadata": {
        "id": "T5bPE82BRqpb"
      },
      "execution_count": null,
      "outputs": []
    },
    {
      "cell_type": "markdown",
      "source": [
        "**Visualizing Random Forest Performance**\n",
        "\n",
        "Reprints the classification report, plots the confusion matrix, and calculates the ROC AUC score to evaluate model discrimination ability.\n",
        "\n"
      ],
      "metadata": {
        "id": "Q3qEk28ONGFM"
      }
    },
    {
      "cell_type": "code",
      "source": [
        "conf_matrix = confusion_matrix(y_test, y_pred)\n",
        "sns.heatmap(conf_matrix, annot=True, fmt='d', cmap='Blues')\n",
        "plt.title(\"Confusion Matrix\")\n",
        "plt.show()\n",
        "from sklearn.metrics import classification_report, confusion_matrix, roc_auc_score, roc_curve\n",
        "\n",
        "print(f\"ROC AUC Score: {roc_auc_score(y_test, y_prob):.4f}\")\n"
      ],
      "metadata": {
        "colab": {
          "base_uri": "https://localhost:8080/",
          "height": 643
        },
        "id": "kmcdYcVPoEDv",
        "outputId": "df95d676-1bef-4f58-9a79-5055aab33a57"
      },
      "execution_count": null,
      "outputs": [
        {
          "output_type": "stream",
          "name": "stdout",
          "text": [
            "Classification Report:\n",
            "              precision    recall  f1-score   support\n",
            "\n",
            "           0       1.00      1.00      1.00     56864\n",
            "           1       0.97      0.78      0.86        98\n",
            "\n",
            "    accuracy                           1.00     56962\n",
            "   macro avg       0.99      0.89      0.93     56962\n",
            "weighted avg       1.00      1.00      1.00     56962\n",
            "\n"
          ]
        },
        {
          "output_type": "display_data",
          "data": {
            "text/plain": [
              "<Figure size 640x480 with 2 Axes>"
            ],
            "image/png": "[encoded data removed]"
          },
          "metadata": {}
        },
        {
          "output_type": "stream",
          "name": "stdout",
          "text": [
            "ROC AUC Score: 0.9528\n"
          ]
        }
      ]
    },
    {
      "cell_type": "markdown",
      "source": [
        "**Training an Autoencoder (Unsupervised)**\n",
        "\n",
        "Defines and trains an autoencoder neural network for anomaly detection, using only non-fraudulent data for training. Calculates reconstruction errors for each test sample as an anomaly score.\n",
        "\n"
      ],
      "metadata": {
        "id": "lJ6xl8nsNbcY"
      }
    },
    {
      "cell_type": "code",
      "source": [
        "# 2. Train Autoencoder (simple Keras example)\n",
        "from tensorflow.keras.models import Model\n",
        "from tensorflow.keras.layers import Input, Dense\n",
        "from tensorflow.keras.optimizers import Adam\n",
        "\n",
        "# Define autoencoder architecture\n",
        "input_dim = X_train.shape[1]\n",
        "input_layer = Input(shape=(input_dim,))\n",
        "encoded = Dense(16, activation='relu')(input_layer)\n",
        "encoded = Dense(8, activation='relu')(encoded)\n",
        "decoded = Dense(16, activation='relu')(encoded)\n",
        "decoded = Dense(input_dim, activation='linear')(decoded)\n",
        "\n",
        "autoencoder = Model(inputs=input_layer, outputs=decoded)\n",
        "autoencoder.compile(optimizer=Adam(learning_rate=0.001), loss='mse')\n",
        "\n",
        "# Train only on non-fraud data (label 0)\n",
        "X_train_ae = X_train[y_train == 0]\n",
        "autoencoder.fit(X_train_ae, X_train_ae, epochs=10, batch_size=64, verbose=0)\n",
        "\n",
        "# Reconstruction errors for test data\n",
        "X_test_reconstructed = autoencoder.predict(X_test)\n",
        "reconstruction_errors = np.mean(np.square(X_test - X_test_reconstructed), axis=1)\n",
        "\n"
      ],
      "metadata": {
        "colab": {
          "base_uri": "https://localhost:8080/"
        },
        "id": "oy0tLVNwqPCP",
        "outputId": "b752f876-f0f2-4781-e79d-e78a99d5a5a1"
      },
      "execution_count": null,
      "outputs": [
        {
          "output_type": "stream",
          "name": "stdout",
          "text": [
            "\u001b[1m1781/1781\u001b[0m \u001b[32m━━━━━━━━━━━━━━━━━━━━\u001b[0m\u001b[37m\u001b[0m \u001b[1m2s\u001b[0m 1ms/step\n"
          ]
        }
      ]
    },
    {
      "cell_type": "markdown",
      "source": [
        "**Training Isolation Forest (Unsupervised)**\n",
        "\n",
        "Trains an Isolation Forest, an unsupervised anomaly detection algorithm, and computes anomaly scores for the test set.\n",
        "\n"
      ],
      "metadata": {
        "id": "YhKaGjV4Nisi"
      }
    },
    {
      "cell_type": "code",
      "source": [
        "# 3. Train Isolation Forest\n",
        "from sklearn.ensemble import IsolationForest\n",
        "isolation_forest = IsolationForest(contamination=0.01, random_state=42)\n",
        "isolation_forest.fit(X_train)\n",
        "isolation_scores = -isolation_forest.decision_function(X_test)  # higher = more anomalous\n"
      ],
      "metadata": {
        "id": "IXfDDqyZvM8a"
      },
      "execution_count": null,
      "outputs": []
    },
    {
      "cell_type": "markdown",
      "source": [
        "**Normalizing Model Scores**\n",
        "\n",
        "Normalizes the scores from Random Forest, Autoencoder, and Isolation Forest to a 0-1 range for fair combination.\n",
        "\n"
      ],
      "metadata": {
        "id": "Y7tQNlZFNqHP"
      }
    },
    {
      "cell_type": "code",
      "source": [
        "from sklearn.preprocessing import MinMaxScaler\n",
        "\n",
        "# 4. Normalize all scores to [0, 1]\n",
        "scaler = MinMaxScaler()\n",
        "rf_scaled = scaler.fit_transform(rf_scores.reshape(-1, 1))\n",
        "ae_scaled = scaler.fit_transform(reconstruction_errors.to_numpy().reshape(-1, 1))\n",
        "iso_scaled = scaler.fit_transform(isolation_scores.reshape(-1, 1))"
      ],
      "metadata": {
        "id": "DI1IjMkRupJc"
      },
      "execution_count": null,
      "outputs": []
    },
    {
      "cell_type": "markdown",
      "source": [
        "**Creating a Hybrid Score**\n",
        "\n",
        "Combines the normalized scores from all three models using weighted averaging to create a hybrid fraud risk score.\n",
        "\n"
      ],
      "metadata": {
        "id": "5wGW9no1NxOx"
      }
    },
    {
      "cell_type": "code",
      "source": [
        "# 5. Combine scores with weights\n",
        "hybrid_score = (0.6 * rf_scaled + 0.2 * ae_scaled + 0.2 * iso_scaled).flatten()"
      ],
      "metadata": {
        "id": "Aj-8ro9ovkOU"
      },
      "execution_count": null,
      "outputs": []
    },
    {
      "cell_type": "markdown",
      "source": [
        "**Thresholding the Hybrid Score**\n",
        "\n",
        "Applies a threshold to the hybrid score to classify transactions as fraudulent or not. The threshold can be tuned for optimal performance.\n",
        "\n"
      ],
      "metadata": {
        "id": "h45VnqTlN2VZ"
      }
    },
    {
      "cell_type": "code",
      "source": [
        "# 6. Apply threshold\n",
        "threshold = 0.5  # You can tune this\n",
        "hybrid_preds = (hybrid_score >= threshold).astype(int)"
      ],
      "metadata": {
        "id": "o1NJez_ivmP7"
      },
      "execution_count": null,
      "outputs": []
    },
    {
      "cell_type": "markdown",
      "source": [
        "**Evaluating the Hybrid Model**\n",
        "\n",
        "Prints evaluation metrics and visualizes the confusion matrix for the hybrid model's predictions.\n",
        "\n"
      ],
      "metadata": {
        "id": "u2PXnh_cN62Z"
      }
    },
    {
      "cell_type": "code",
      "source": [
        "# 7. Evaluation\n",
        "print(\"Hybrid Model Classification Report:\")\n",
        "print(classification_report(y_test, hybrid_preds))\n",
        "\n",
        "sns.heatmap(confusion_matrix(y_test, hybrid_preds), annot=True, fmt='d', cmap='Purples')\n",
        "plt.title(\"Hybrid Confusion Matrix\")\n",
        "plt.xlabel(\"Predicted\")\n",
        "plt.ylabel(\"Actual\")\n",
        "plt.show()"
      ],
      "metadata": {
        "colab": {
          "base_uri": "https://localhost:8080/",
          "height": 646
        },
        "id": "syGJyDLSvoZm",
        "outputId": "f45be740-f77d-4ac4-dda5-0026ea8292ef"
      },
      "execution_count": null,
      "outputs": [
        {
          "output_type": "stream",
          "name": "stdout",
          "text": [
            "Hybrid Model Classification Report:\n",
            "              precision    recall  f1-score   support\n",
            "\n",
            "           0       1.00      1.00      1.00     56864\n",
            "           1       0.99      0.71      0.83        98\n",
            "\n",
            "    accuracy                           1.00     56962\n",
            "   macro avg       0.99      0.86      0.91     56962\n",
            "weighted avg       1.00      1.00      1.00     56962\n",
            "\n"
          ]
        },
        {
          "output_type": "display_data",
          "data": {
            "text/plain": [
              "<Figure size 640x480 with 2 Axes>"
            ],
            "image/png": "[encoded data removed]"
          },
          "metadata": {}
        }
      ]
    },
    {
      "cell_type": "markdown",
      "source": [
        "**Precision-Recall Threshold Tuning**\n",
        "\n",
        "Calculates precision, recall, and F1-score at various thresholds, finds the threshold that maximizes F1, and evaluates the model at this optimal threshold. Visualizes the tuned confusion matrix.\n",
        "\n"
      ],
      "metadata": {
        "id": "3od4Y4ObOBYL"
      }
    },
    {
      "cell_type": "code",
      "source": [
        "from sklearn.metrics import precision_recall_curve, f1_score\n",
        "\n",
        "# Calculate precision, recall, and thresholds\n",
        "precision, recall, thresholds = precision_recall_curve(y_test, hybrid_score)\n",
        "\n",
        "# Calculate F1 scores for each threshold\n",
        "f1_scores = 2 * (precision * recall) / (precision + recall + 1e-8)\n",
        "\n",
        "# Find the threshold that maximizes recall or F1\n",
        "best_threshold_idx = np.argmax(f1_scores)\n",
        "best_threshold = thresholds[best_threshold_idx]\n",
        "print(f\"Best Threshold (based on F1): {best_threshold:.4f}\")\n",
        "print(f\"Precision: {precision[best_threshold_idx]:.4f}, Recall: {recall[best_threshold_idx]:.4f}\")\n",
        "\n",
        "# Predict using best threshold\n",
        "hybrid_preds = (hybrid_score >= best_threshold).astype(int)\n",
        "\n",
        "# Evaluate\n",
        "print(\"\\nTuned Hybrid Classification Report:\")\n",
        "print(classification_report(y_test, hybrid_preds))\n",
        "sns.heatmap(confusion_matrix(y_test, hybrid_preds), annot=True, fmt='d', cmap='Purples')\n",
        "print(\"Threshold Tuning (Precision-Recall Tradeoff)\")\n",
        "plt.title(\"Tuned Hybrid Confusion Matrix\")\n",
        "plt.xlabel(\"Predicted\")\n",
        "plt.ylabel(\"Actual\")\n",
        "plt.show()\n",
        "print(\"the best threshold was \",best_threshold)"
      ],
      "metadata": {
        "colab": {
          "base_uri": "https://localhost:8080/",
          "height": 732
        },
        "id": "N0n6IeQAwTXv",
        "outputId": "3c62017b-a22a-47e4-e825-0f5d30b76297"
      },
      "execution_count": null,
      "outputs": [
        {
          "output_type": "stream",
          "name": "stdout",
          "text": [
            "Best Threshold (based on F1): 0.3853\n",
            "Precision: 0.9634, Recall: 0.8061\n",
            "\n",
            "Tuned Hybrid Classification Report:\n",
            "              precision    recall  f1-score   support\n",
            "\n",
            "           0       1.00      1.00      1.00     56864\n",
            "           1       0.96      0.81      0.88        98\n",
            "\n",
            "    accuracy                           1.00     56962\n",
            "   macro avg       0.98      0.90      0.94     56962\n",
            "weighted avg       1.00      1.00      1.00     56962\n",
            "\n",
            "Threshold Tuning (Precision-Recall Tradeoff)\n"
          ]
        },
        {
          "output_type": "display_data",
          "data": {
            "text/plain": [
              "<Figure size 640x480 with 2 Axes>"
            ],
            "image/png": "[encoded data removed]"
          },
          "metadata": {}
        },
        {
          "output_type": "stream",
          "name": "stdout",
          "text": [
            "the best threshold was  0.38529241924005\n"
          ]
        }
      ]
    },
    {
      "cell_type": "markdown",
      "source": [
        "**Accuracy Calculation**\n",
        "Computes the overall accuracy of the Random Forest model on the test set.\n",
        "\n"
      ],
      "metadata": {
        "id": "RTGh1-aAOJHx"
      }
    },
    {
      "cell_type": "code",
      "source": [
        "from sklearn.metrics import accuracy_score\n",
        "acc = accuracy_score(y_test, y_pred)\n",
        "acc"
      ],
      "metadata": {
        "colab": {
          "base_uri": "https://localhost:8080/"
        },
        "id": "U4wsGH4VypHQ",
        "outputId": "7a05e787-ff03-4cfd-a987-45afd5d837ca"
      },
      "execution_count": null,
      "outputs": [
        {
          "output_type": "execute_result",
          "data": {
            "text/plain": [
              "0.9995786664794073"
            ]
          },
          "metadata": {},
          "execution_count": 30
        }
      ]
    },
    {
      "cell_type": "markdown",
      "source": [
        "**ROC and Precision-Recall Curves**\n",
        "\n",
        "Plots the ROC curve and the Precision-Recall curve for the hybrid model, providing visual insight into model performance across different thresholds"
      ],
      "metadata": {
        "id": "xkH5gxnROQO5"
      }
    },
    {
      "cell_type": "code",
      "source": [
        "\n",
        "# 11. Plot ROC Curve\n",
        "fpr, tpr, _ = roc_curve(y_test, hybrid_score)\n",
        "plt.figure()\n",
        "plt.plot(fpr, tpr, label=f'ROC curve (AUC = {roc_auc_score(y_test, hybrid_score):.2f})')\n",
        "plt.plot([0, 1], [0, 1], 'k--')\n",
        "plt.xlabel('False Positive Rate')\n",
        "plt.ylabel('True Positive Rate')\n",
        "plt.title('ROC Curve')\n",
        "plt.legend(loc='lower right')\n",
        "plt.grid()\n",
        "plt.show()\n",
        "\n",
        "# 12. Plot Precision-Recall Curve\n",
        "precision, recall, _ = precision_recall_curve(y_test, hybrid_score)\n",
        "plt.figure()\n",
        "plt.plot(recall, precision, label=\"Precision-Recall Curve\")\n",
        "plt.xlabel(\"Recall\")\n",
        "plt.ylabel(\"Precision\")\n",
        "plt.title(\"Precision-Recall Curve\")\n",
        "plt.grid()\n",
        "plt.legend()\n",
        "plt.show()\n"
      ],
      "metadata": {
        "colab": {
          "base_uri": "https://localhost:8080/",
          "height": 927
        },
        "id": "1uxCSN033gNO",
        "outputId": "46d0171f-3c54-4a4f-dd55-4eefdb84b43d"
      },
      "execution_count": null,
      "outputs": [
        {
          "output_type": "display_data",
          "data": {
            "text/plain": [
              "<Figure size 640x480 with 1 Axes>"
            ],
            "image/png": "[encoded data removed]"
          },
          "metadata": {}
        },
        {
          "output_type": "display_data",
          "data": {
            "text/plain": [
              "<Figure size 640x480 with 1 Axes>"
            ],
            "image/png": "[encoded data removed]"
          },
          "metadata": {}
        }
      ]
    }
  ]
}